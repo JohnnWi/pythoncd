{
 "cells": [
  {
   "cell_type": "code",
   "execution_count": 31,
   "id": "7b7272b0-f9ec-4bfc-9fce-5fe2841625c0",
   "metadata": {},
   "outputs": [
    {
     "name": "stdout",
     "output_type": "stream",
     "text": [
      "L'importo dopo 10 anni è di  1967 euro\n"
     ]
    }
   ],
   "source": [
    "anno1 = int (1000 * ((1 + 0.07)**10))\n",
    "print (\"L'importo dopo 10 anni è di \", anno1 , \"euro\")"
   ]
  },
  {
   "cell_type": "code",
   "execution_count": 32,
   "id": "14277e11-e3bb-42bd-8e6f-62f68b49d585",
   "metadata": {},
   "outputs": [
    {
     "name": "stdout",
     "output_type": "stream",
     "text": [
      "L'importo dopo 20 anni è di  3869 euro\n"
     ]
    }
   ],
   "source": [
    "anno2 = int (1000 * ((1 + 0.07)**20))\n",
    "print (\"L'importo dopo 20 anni è di \", anno2 , \"euro\")"
   ]
  },
  {
   "cell_type": "code",
   "execution_count": 33,
   "id": "abed086b-daeb-4da0-bfee-bd4790f8eba3",
   "metadata": {},
   "outputs": [
    {
     "name": "stdout",
     "output_type": "stream",
     "text": [
      "L'importo dopo 30 anni è di  7612 euro\n"
     ]
    }
   ],
   "source": [
    "anno3 = int (1000 * ((1 + 0.07)**30))\n",
    "print (\"L'importo dopo 30 anni è di \", anno3 , \"euro\")"
   ]
  },
  {
   "cell_type": "code",
   "execution_count": null,
   "id": "693a40ae-eb33-4f73-8fa7-ef0df0f3dc87",
   "metadata": {},
   "outputs": [],
   "source": [
    "print (\"L'importo dopo 10 anni è di \", anno1 , \"euro\")\n",
    "print (\"L'importo dopo 20 anni è di \", anno2 , \"euro\")\n",
    "print (\"L'importo dopo 30 anni è di \", anno3 , \"euro\")"
   ]
  },
  {
   "cell_type": "code",
   "execution_count": 36,
   "id": "9b06b62a-5383-4bc3-8521-fa4c4e9cd0c4",
   "metadata": {},
   "outputs": [],
   "source": [
    "aumento1 = float (anno2 / anno1) * 100 - 100\n",
    "Aumento1 = round (aumento1, 2)\n",
    "aumento2 = float (anno3 / anno2) * 100 - 100\n",
    "Aumento2 = round (aumento2, 2)\n",
    "aumento3 = float (anno3 / anno1) * 100 - 100\n",
    "Aumento3 = round (aumento3, 2)"
   ]
  },
  {
   "cell_type": "code",
   "execution_count": 37,
   "id": "7cf37ef4-4c19-47d3-b56d-2b2ad6553099",
   "metadata": {},
   "outputs": [
    {
     "name": "stdout",
     "output_type": "stream",
     "text": [
      "Rispetto ai primi 10 anni, c'è stato un aumento di capitale pari a:  96.7 %\n",
      "Rispetto ai primi 20 anni, c'è stato un aumento di capitale pari a:  96.74 %\n",
      "Il capitale dopo 30 anni, rispetto ai primi 10 anni è aumentato del:  286.99 %\n"
     ]
    }
   ],
   "source": [
    "print (\"Rispetto ai primi 10 anni, c'è stato un aumento di capitale pari a: \", Aumento1, \"%\")\n",
    "print (\"Rispetto ai primi 20 anni, c'è stato un aumento di capitale pari a: \", Aumento2, \"%\")\n",
    "print (\"Il capitale dopo 30 anni, rispetto ai primi 10 anni è aumentato del: \", Aumento3, \"%\")"
   ]
  }
 ],
 "metadata": {
  "kernelspec": {
   "display_name": "Python 3 (ipykernel)",
   "language": "python",
   "name": "python3"
  },
  "language_info": {
   "codemirror_mode": {
    "name": "ipython",
    "version": 3
   },
   "file_extension": ".py",
   "mimetype": "text/x-python",
   "name": "python",
   "nbconvert_exporter": "python",
   "pygments_lexer": "ipython3",
   "version": "3.11.7"
  }
 },
 "nbformat": 4,
 "nbformat_minor": 5
}
