{
 "cells": [
  {
   "cell_type": "code",
   "execution_count": 46,
   "id": "750bc34f-6495-43d7-8aeb-fbb6410b5415",
   "metadata": {},
   "outputs": [],
   "source": [
    "import pandas as pd"
   ]
  },
  {
   "cell_type": "code",
   "execution_count": 54,
   "id": "c31dbf7f-2ee9-4d07-937b-7312515dc53c",
   "metadata": {},
   "outputs": [
    {
     "name": "stdin",
     "output_type": "stream",
     "text": [
      "Inserisci il primo numero 283\n",
      "Inserisci il secondo numero 282\n"
     ]
    }
   ],
   "source": [
    "primonumero = int(input(\"Inserisci il primo numero\"))\n",
    "secondonumero = int(input(\"Inserisci il secondo numero\"))"
   ]
  },
  {
   "cell_type": "code",
   "execution_count": 56,
   "id": "dcd16ffa-1fe6-4c8d-a666-fba58836c5a6",
   "metadata": {},
   "outputs": [
    {
     "name": "stdout",
     "output_type": "stream",
     "text": [
      "283  +  282  =  565\n"
     ]
    }
   ],
   "source": [
    "somma = (primonumero + secondonumero)\n",
    "print (primonumero, \" + \", secondonumero, \" = \", somma)"
   ]
  },
  {
   "cell_type": "code",
   "execution_count": 63,
   "id": "206ba5c1-7a0b-44c8-bdab-4f8fe851ebf1",
   "metadata": {},
   "outputs": [
    {
     "data": {
      "text/plain": [
       "[2, 3, 4, 'ciao', 'paola']"
      ]
     },
     "execution_count": 63,
     "metadata": {},
     "output_type": "execute_result"
    }
   ],
   "source": [
    "x = [2, 3, 4, \"ciao\", \"paola\"]\n",
    "x"
   ]
  },
  {
   "cell_type": "code",
   "execution_count": 65,
   "id": "3fd02a41-2bb0-4795-939f-be24d1ad0381",
   "metadata": {},
   "outputs": [
    {
     "data": {
      "text/plain": [
       "('ciao', 'hola', 23, 23.2)"
      ]
     },
     "execution_count": 65,
     "metadata": {},
     "output_type": "execute_result"
    }
   ],
   "source": [
    "y = (\"ciao\", \"hola\", 23, 23.2)\n",
    "y"
   ]
  },
  {
   "cell_type": "code",
   "execution_count": 69,
   "id": "082599a8-0ffc-45be-aacd-be084fa8b01a",
   "metadata": {},
   "outputs": [
    {
     "name": "stdout",
     "output_type": "stream",
     "text": [
      "3\n"
     ]
    }
   ],
   "source": [
    "print(x[1])"
   ]
  },
  {
   "cell_type": "code",
   "execution_count": 67,
   "id": "0699cbe3-798e-4a3c-a3ae-9b2bb660d200",
   "metadata": {},
   "outputs": [
    {
     "name": "stdout",
     "output_type": "stream",
     "text": [
      "ciao\n"
     ]
    }
   ],
   "source": [
    "print(y[0])"
   ]
  },
  {
   "cell_type": "code",
   "execution_count": 74,
   "id": "75ff0f6a-92d2-4f01-b9d6-7f28707143e3",
   "metadata": {},
   "outputs": [
    {
     "data": {
      "text/plain": [
       "6"
      ]
     },
     "execution_count": 74,
     "metadata": {},
     "output_type": "execute_result"
    }
   ],
   "source": [
    "xy = len(y) + 2\n",
    "xy"
   ]
  },
  {
   "cell_type": "code",
   "execution_count": 75,
   "id": "9550e9f5-a993-4479-82c5-25d5fcfae4fd",
   "metadata": {},
   "outputs": [],
   "source": [
    "x.append(\"belle\")"
   ]
  },
  {
   "cell_type": "code",
   "execution_count": 76,
   "id": "b6af9941-0ea7-4940-86a3-7c0581ae4e0b",
   "metadata": {},
   "outputs": [
    {
     "data": {
      "text/plain": [
       "[2, 3, 4, 'ciao', 'paola', 'belle']"
      ]
     },
     "execution_count": 76,
     "metadata": {},
     "output_type": "execute_result"
    }
   ],
   "source": [
    "x"
   ]
  },
  {
   "cell_type": "code",
   "execution_count": 77,
   "id": "61432db1-8a86-41a9-bbde-4af638ac76a1",
   "metadata": {},
   "outputs": [
    {
     "data": {
      "text/plain": [
       "[2, 3, 4, 'ciao', 'paola']"
      ]
     },
     "execution_count": 77,
     "metadata": {},
     "output_type": "execute_result"
    }
   ],
   "source": [
    "x.remove(\"belle\")\n",
    "x"
   ]
  },
  {
   "cell_type": "code",
   "execution_count": 81,
   "id": "ea318842-6564-484a-974d-80e403090741",
   "metadata": {},
   "outputs": [],
   "source": [
    "x[-1] = \"banana\""
   ]
  },
  {
   "cell_type": "code",
   "execution_count": 83,
   "id": "115d0ec1-e40b-41f2-b080-839c3d433a27",
   "metadata": {},
   "outputs": [
    {
     "data": {
      "text/plain": [
       "['banana', 3, 4, 'ciao', 'banana']"
      ]
     },
     "execution_count": 83,
     "metadata": {},
     "output_type": "execute_result"
    }
   ],
   "source": [
    "x"
   ]
  },
  {
   "cell_type": "code",
   "execution_count": 84,
   "id": "cc82cf15-3653-4f85-b92f-86c1e54316c1",
   "metadata": {},
   "outputs": [],
   "source": [
    "x.remove(\"banana\")"
   ]
  },
  {
   "cell_type": "code",
   "execution_count": 85,
   "id": "04b574f3-5882-47a3-924a-af849a7cb1bc",
   "metadata": {},
   "outputs": [
    {
     "data": {
      "text/plain": [
       "[3, 4, 'ciao', 'banana']"
      ]
     },
     "execution_count": 85,
     "metadata": {},
     "output_type": "execute_result"
    }
   ],
   "source": [
    "x"
   ]
  },
  {
   "cell_type": "code",
   "execution_count": 94,
   "id": "3deb6bf8-0605-43e6-b36c-0724299be5e3",
   "metadata": {},
   "outputs": [
    {
     "data": {
      "text/plain": [
       "['vero', 2, 23.2, 'ciao', 'vino', 'birra', 12]"
      ]
     },
     "execution_count": 94,
     "metadata": {},
     "output_type": "execute_result"
    }
   ],
   "source": [
    "lista1 = [ \"vero\", 2, 23.2, \"ciao\"]\n",
    "lista2 = [ \"vino\", \"birra\", 12, ]\n",
    "listafinale = lista1 + lista2\n",
    "listafinale"
   ]
  },
  {
   "cell_type": "code",
   "execution_count": 102,
   "id": "554b78ab-43b1-4c02-82ff-7bff31b9fdb8",
   "metadata": {},
   "outputs": [
    {
     "name": "stdout",
     "output_type": "stream",
     "text": [
      "vero\n",
      "2\n",
      "23.2\n",
      "ciao\n"
     ]
    }
   ],
   "source": [
    "for elemento in lista1:\n",
    "    print (elemento, end = \"\\n\")"
   ]
  },
  {
   "cell_type": "code",
   "execution_count": 115,
   "id": "15e0ab6d-f509-4553-a419-5b37f89b3a42",
   "metadata": {},
   "outputs": [
    {
     "name": "stdout",
     "output_type": "stream",
     "text": [
      "2\n",
      "-1\n",
      "-1\n",
      "16\n",
      "25\n"
     ]
    }
   ],
   "source": [
    "totale = 0\n",
    "\n",
    "for numero in [ 2, -3, 0, 17, 9]:\n",
    "    totale = totale + numero\n",
    "    print(totale)"
   ]
  },
  {
   "cell_type": "code",
   "execution_count": 125,
   "id": "9cc8ec13-e61a-4628-a050-eac3048027cf",
   "metadata": {},
   "outputs": [
    {
     "name": "stdout",
     "output_type": "stream",
     "text": [
      "0 1 2 3 4 5 6 7 8 9 10 "
     ]
    }
   ],
   "source": [
    "for contatore in range(11):\n",
    "    print(contatore, end= \" \")"
   ]
  },
  {
   "cell_type": "code",
   "execution_count": 130,
   "id": "e686734d-9115-4077-98ab-00e8bbe5d2b6",
   "metadata": {},
   "outputs": [
    {
     "name": "stdout",
     "output_type": "stream",
     "text": [
      "4950\n"
     ]
    }
   ],
   "source": [
    "totale = 0\n",
    "\n",
    "for numero in range(100):\n",
    "    totale = totale + numero\n",
    "print(totale)"
   ]
  },
  {
   "cell_type": "code",
   "execution_count": 135,
   "id": "ae1b0e9d-deca-46ee-8ea1-17a0cc0ec127",
   "metadata": {},
   "outputs": [
    {
     "name": "stdout",
     "output_type": "stream",
     "text": [
      "1\n",
      "3\n",
      "6\n",
      "10\n",
      "15\n"
     ]
    }
   ],
   "source": [
    "totale = 0\n",
    "for numero in [1,2,3,4,5]:\n",
    "    totale += numero\n",
    "    print(totale)"
   ]
  },
  {
   "cell_type": "code",
   "execution_count": 139,
   "id": "b05f914a-3d37-4b95-b61e-3a261b9f641d",
   "metadata": {},
   "outputs": [],
   "source": [
    "voto = 17"
   ]
  },
  {
   "cell_type": "code",
   "execution_count": 142,
   "id": "ae43ef57-106d-4087-afb1-6ed7f9bc69f5",
   "metadata": {},
   "outputs": [
    {
     "name": "stdout",
     "output_type": "stream",
     "text": [
      "bocciato\n"
     ]
    }
   ],
   "source": [
    "\n",
    "if voto >= 18:\n",
    "    print (\"Esame superato\")\n",
    "else:\n",
    "    print (\"bocciato\")"
   ]
  },
  {
   "cell_type": "code",
   "execution_count": 152,
   "id": "04d8db00-a3a9-4e5c-bc5f-91239526fced",
   "metadata": {},
   "outputs": [],
   "source": [
    "def massimo(voto):\n",
    "    \n",
    "    if voto >= 18:\n",
    "        print (\"Esame superato\")\n",
    "    else:\n",
    "        print (\"bocciato\")\n",
    "    "
   ]
  },
  {
   "cell_type": "code",
   "execution_count": 154,
   "id": "8c32b6dd-f549-4265-bd6f-44ca558d949e",
   "metadata": {},
   "outputs": [
    {
     "name": "stdout",
     "output_type": "stream",
     "text": [
      "bocciato\n"
     ]
    }
   ],
   "source": [
    "massimo(12)"
   ]
  },
  {
   "cell_type": "code",
   "execution_count": null,
   "id": "54d81179-6144-433c-9aa8-e365cdd61367",
   "metadata": {},
   "outputs": [],
   "source": []
  }
 ],
 "metadata": {
  "kernelspec": {
   "display_name": "Python 3 (ipykernel)",
   "language": "python",
   "name": "python3"
  },
  "language_info": {
   "codemirror_mode": {
    "name": "ipython",
    "version": 3
   },
   "file_extension": ".py",
   "mimetype": "text/x-python",
   "name": "python",
   "nbconvert_exporter": "python",
   "pygments_lexer": "ipython3",
   "version": "3.11.7"
  }
 },
 "nbformat": 4,
 "nbformat_minor": 5
}
