{
 "cells": [
  {
   "cell_type": "code",
   "execution_count": 5,
   "id": "cfbb5ef6-c4c8-4394-9123-3db3421e6a2e",
   "metadata": {},
   "outputs": [
    {
     "data": {
      "text/plain": [
       "23.4"
      ]
     },
     "execution_count": 5,
     "metadata": {},
     "output_type": "execute_result"
    }
   ],
   "source": [
    "total = (10.2 + 13.2)\n",
    "total"
   ]
  },
  {
   "cell_type": "code",
   "execution_count": 8,
   "id": "d10f99fc-dd0a-4b9c-a138-4cc7da35f28f",
   "metadata": {},
   "outputs": [
    {
     "data": {
      "text/plain": [
       "2"
      ]
     },
     "execution_count": 8,
     "metadata": {},
     "output_type": "execute_result"
    }
   ],
   "source": [
    "20 % 3"
   ]
  },
  {
   "cell_type": "code",
   "execution_count": 10,
   "id": "f70d56e8-b8db-430d-8c58-76bb2e2d3472",
   "metadata": {},
   "outputs": [
    {
     "data": {
      "text/plain": [
       "4096"
      ]
     },
     "execution_count": 10,
     "metadata": {},
     "output_type": "execute_result"
    }
   ],
   "source": [
    "(4 ** 3) ** 2"
   ]
  },
  {
   "cell_type": "code",
   "execution_count": 11,
   "id": "3bad7a49-e089-4f0f-bab7-4bc9d024a660",
   "metadata": {},
   "outputs": [
    {
     "name": "stdin",
     "output_type": "stream",
     "text": [
      "come ti chiami? Andrea\n"
     ]
    }
   ],
   "source": [
    "nome = input(\"come ti chiami?\")"
   ]
  },
  {
   "cell_type": "code",
   "execution_count": 13,
   "id": "d7f834fb-448c-4a35-b54e-8ad519fe2b9a",
   "metadata": {},
   "outputs": [
    {
     "name": "stdout",
     "output_type": "stream",
     "text": [
      "Andrea\n"
     ]
    }
   ],
   "source": [
    "print (nome)"
   ]
  },
  {
   "cell_type": "code",
   "execution_count": null,
   "id": "f8de101a-df4c-4212-b6f2-69853961f6e3",
   "metadata": {},
   "outputs": [],
   "source": [
    "valore = int(input( \"Quanto hai test?\"))\n",
    "valore\n",
    "\n"
   ]
  },
  {
   "cell_type": "code",
   "execution_count": null,
   "id": "1f89445f-e6be-4801-83bc-7928cd44029b",
   "metadata": {},
   "outputs": [],
   "source": []
  }
 ],
 "metadata": {
  "kernelspec": {
   "display_name": "Python 3 (ipykernel)",
   "language": "python",
   "name": "python3"
  },
  "language_info": {
   "codemirror_mode": {
    "name": "ipython",
    "version": 3
   },
   "file_extension": ".py",
   "mimetype": "text/x-python",
   "name": "python",
   "nbconvert_exporter": "python",
   "pygments_lexer": "ipython3",
   "version": "3.11.7"
  }
 },
 "nbformat": 4,
 "nbformat_minor": 5
}
