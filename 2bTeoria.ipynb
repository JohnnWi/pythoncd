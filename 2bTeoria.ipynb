{
 "cells": [
  {
   "cell_type": "code",
   "execution_count": 4,
   "id": "51bb15d6-cce0-4c33-9ead-5fb567d61be0",
   "metadata": {},
   "outputs": [
    {
     "name": "stdin",
     "output_type": "stream",
     "text": [
      "Inserisci il primo numero  38383\n",
      "Inserisci il secondo numero  484784\n"
     ]
    },
    {
     "name": "stdout",
     "output_type": "stream",
     "text": [
      "La somma di  38383 + 484784 è uguale a  523167\n"
     ]
    }
   ],
   "source": [
    "dato1 = int(input(\"Inserisci il primo numero \"))\n",
    "dato2 = int(input(\"Inserisci il secondo numero \"))\n",
    "somma = dato1 + dato2\n",
    "print(\"La somma di \", dato1, \"+\", dato2, \"è uguale a \", somma)"
   ]
  },
  {
   "cell_type": "code",
   "execution_count": 16,
   "id": "0691b377-fac5-4d78-bf8d-34ba6fedf77f",
   "metadata": {},
   "outputs": [
    {
     "data": {
      "text/plain": [
       "'bocciato'"
      ]
     },
     "execution_count": 16,
     "metadata": {},
     "output_type": "execute_result"
    }
   ],
   "source": [
    "voto = 2\n",
    "\n",
    "if voto >= 18:\n",
    "    risultato = \"superato\"\n",
    "else:\n",
    "    risultato = \"bocciato\"\n",
    "risultato"
   ]
  },
  {
   "cell_type": "code",
   "execution_count": 14,
   "id": "f79029f3-a1c3-4dff-bc66-0782251ff37b",
   "metadata": {},
   "outputs": [
    {
     "data": {
      "text/plain": [
       "'superato'"
      ]
     },
     "execution_count": 14,
     "metadata": {},
     "output_type": "execute_result"
    }
   ],
   "source": [
    "result = (\"superato\" if voto >= 18 else \"fallito\")\n",
    "result\n",
    "          "
   ]
  },
  {
   "cell_type": "code",
   "execution_count": 21,
   "id": "62a5edcd-afd7-4d9b-aab2-88a67a59cac1",
   "metadata": {},
   "outputs": [
    {
     "data": {
      "text/plain": [
       "'fallito'"
      ]
     },
     "execution_count": 21,
     "metadata": {},
     "output_type": "execute_result"
    }
   ],
   "source": [
    "\"bravo\" if voto >= 18 else \"fallito\"\n",
    "## definisci sempre la variabile\n",
    "## in questo caso la variabile è \"voto\", definita prima"
   ]
  },
  {
   "cell_type": "code",
   "execution_count": 23,
   "id": "cb81dbd3-1091-436b-a07d-9dc61023e2f5",
   "metadata": {},
   "outputs": [
    {
     "name": "stdout",
     "output_type": "stream",
     "text": [
      "fallito\n",
      "Devi rifare il test\n"
     ]
    }
   ],
   "source": [
    "v1 = 11\n",
    "if voto >= 18:\n",
    "    print(\"superato\")\n",
    "else:\n",
    "    print(\"fallito\")\n",
    "    print(\"Devi rifare il test\")"
   ]
  },
  {
   "cell_type": "code",
   "execution_count": 26,
   "id": "6bc1729c-ad79-4ee4-bdf2-6b9effa8a4fb",
   "metadata": {},
   "outputs": [
    {
     "name": "stdout",
     "output_type": "stream",
     "text": [
      "fallito\n",
      "test\n"
     ]
    }
   ],
   "source": [
    "voto = 11\n",
    "\n",
    "if voto >= 18:\n",
    "    print (\"Superato\")\n",
    "else:\n",
    "    print(\"fallito\")\n",
    "print(\"test\")"
   ]
  },
  {
   "cell_type": "code",
   "execution_count": 32,
   "id": "c37690a5-63ba-4b9f-bada-a87fbbe69c0f",
   "metadata": {},
   "outputs": [
    {
     "name": "stdout",
     "output_type": "stream",
     "text": [
      "A\n"
     ]
    }
   ],
   "source": [
    "v2 = 28\n",
    "\n",
    "if v2 >= 27:\n",
    "    print(\"A\")\n",
    "elif v2 >= 24:\n",
    "    print(\"B\")\n",
    "elif v2 >= 21:\n",
    "    print(\"C\")\n",
    "elif v2 >= 18:\n",
    "    print(\"D\")\n",
    "else:\n",
    "    print(\"F\")\n",
    "## comodo, ricordati di usarlo"
   ]
  },
  {
   "cell_type": "code",
   "execution_count": 35,
   "id": "d9eb9261-117c-4c45-b546-39147d1503f5",
   "metadata": {},
   "outputs": [
    {
     "data": {
      "text/plain": [
       "64"
      ]
     },
     "execution_count": 35,
     "metadata": {},
     "output_type": "execute_result"
    }
   ],
   "source": [
    "articoli = 2\n",
    "while articoli <= 50:\n",
    "    articoli = articoli * 2\n",
    "articoli"
   ]
  },
  {
   "cell_type": "code",
   "execution_count": 42,
   "id": "b9b6faa4-7656-41fd-be4f-5bf45934c37f",
   "metadata": {},
   "outputs": [
    {
     "name": "stdin",
     "output_type": "stream",
     "text": [
      "Inserisci un valore:  30\n",
      "Inserisci valore:  3\n",
      "Inserisci valore:  3\n",
      "Inserisci valore:  3\n",
      "Inserisci valore:  3\n",
      "Inserisci valore:  4\n",
      "Inserisci valore:  5\n",
      "Inserisci valore:  5\n",
      "Inserisci valore:  65\n",
      "Inserisci valore:  6\n",
      "Inserisci valore:  6\n",
      "Inserisci valore:  67\n",
      "Inserisci valore:  0\n"
     ]
    },
    {
     "name": "stdout",
     "output_type": "stream",
     "text": [
      "somma:  200\n"
     ]
    }
   ],
   "source": [
    "somma = 0\n",
    "valore = int(input(\"Inserisci un valore: \"))\n",
    "\n",
    "while valore  != 0:\n",
    "    somma = somma + valore\n",
    "    valore = int(input(\"Inserisci valore: \"))\n",
    "\n",
    "print (\"somma: \", somma)"
   ]
  },
  {
   "cell_type": "code",
   "execution_count": 51,
   "id": "9b56d09c-4264-4334-8614-2b28726656fb",
   "metadata": {},
   "outputs": [],
   "source": [
    "lista1 = [2, 392, 3, 10, 3]"
   ]
  },
  {
   "cell_type": "code",
   "execution_count": 48,
   "id": "76669689-2907-48a8-a630-b2fc83578b26",
   "metadata": {},
   "outputs": [
    {
     "name": "stdout",
     "output_type": "stream",
     "text": [
      "birra 392 cibo gatti 3 "
     ]
    }
   ],
   "source": [
    "for elemento in lista1:\n",
    "    print (elemento, end = \" \")"
   ]
  },
  {
   "cell_type": "code",
   "execution_count": 55,
   "id": "4024bb72-abc3-422b-bc3e-94d4c853dbdc",
   "metadata": {},
   "outputs": [
    {
     "data": {
      "text/plain": [
       "43"
      ]
     },
     "execution_count": 55,
     "metadata": {},
     "output_type": "execute_result"
    }
   ],
   "source": [
    "totale = 0\n",
    "\n",
    "for numero in [2, -3, 0, 23, 21]:\n",
    "    totale = totale + numero\n",
    "totale"
   ]
  },
  {
   "cell_type": "code",
   "execution_count": 57,
   "id": "d00e1273-316d-43dc-bc18-ff8a249804e9",
   "metadata": {},
   "outputs": [
    {
     "name": "stdout",
     "output_type": "stream",
     "text": [
      "0 1 2 3 4 5 6 7 8 9 10 "
     ]
    }
   ],
   "source": [
    "## funzione range\n",
    "for contatore in range(11):\n",
    "    print(contatore, end = \" \")"
   ]
  },
  {
   "cell_type": "code",
   "execution_count": 60,
   "id": "828ec93f-6a72-4d34-bab9-79cfb65b8188",
   "metadata": {},
   "outputs": [
    {
     "data": {
      "text/plain": [
       "5050"
      ]
     },
     "execution_count": 60,
     "metadata": {},
     "output_type": "execute_result"
    }
   ],
   "source": [
    "## esempio di funzione range per controllare i valori\n",
    "totale = 0\n",
    "\n",
    "for numero in range (101):\n",
    "    totale = totale + numero\n",
    "totale"
   ]
  },
  {
   "cell_type": "code",
   "execution_count": 63,
   "id": "d72cf432-5cd7-43a8-adbe-95bdb2e08999",
   "metadata": {},
   "outputs": [
    {
     "data": {
      "text/plain": [
       "16"
      ]
     },
     "execution_count": 63,
     "metadata": {},
     "output_type": "execute_result"
    }
   ],
   "source": [
    "## assegnazioni aumentate abbrevviando codice\n",
    "totale = 0\n",
    "for numero in [1,3,5,7]:\n",
    "    totale += numero\n",
    "totale"
   ]
  },
  {
   "cell_type": "code",
   "execution_count": 65,
   "id": "4982ee09-52df-40c4-be3b-bfac704d97fe",
   "metadata": {},
   "outputs": [
    {
     "name": "stdout",
     "output_type": "stream",
     "text": [
      "la media della classe è:  81.7\n"
     ]
    }
   ],
   "source": [
    "## esercizio pag 56\n",
    "## fase di inizializzazione\n",
    "totale = 0\n",
    "contatore_voto = 0\n",
    "voti = [98,76,71,87,83,90,57,79,82,94]\n",
    "\n",
    "#fase di elaborazione\n",
    "for voto in voti:\n",
    "    totale += voto ## aggiunge il voto corrente al totale parziale\n",
    "    contatore_voto += 1\n",
    "\n",
    "media = totale / contatore_voto\n",
    "print(\"la media della classe è: \", media)"
   ]
  },
  {
   "cell_type": "code",
   "execution_count": 74,
   "id": "409727fe-13eb-4c19-aceb-bb7b5f269e96",
   "metadata": {},
   "outputs": [
    {
     "name": "stdin",
     "output_type": "stream",
     "text": [
      "Inserisci il voto, -1 per terminare 1\n",
      "Inserisci il voto, -1 per terminare 3\n",
      "Inserisci il voto, -1 per terminare -1\n"
     ]
    },
    {
     "name": "stdout",
     "output_type": "stream",
     "text": [
      "La media della classe è  2.0\n",
      "bocciato\n"
     ]
    }
   ],
   "source": [
    "## esercizio pag 59\n",
    "totale = 0\n",
    "contatore_voto = 0\n",
    "\n",
    "variabile1 = int(input(\"Inserisci il voto, -1 per terminare\"))\n",
    "while variabile1 != -1:\n",
    "    totale += variabile1\n",
    "    contatore_voto += 1\n",
    "    variabile1 = int(input(\"Inserisci il voto, -1 per terminare\"))\n",
    "\n",
    "if contatore_voto != 0:\n",
    "    media = totale / contatore_voto\n",
    "    print(\"La media della classe è \", media)\n",
    "    \n",
    "else:\n",
    "    print(\"Non è stato inserito alcun voto.\")\n",
    "\n",
    "##test mio\n",
    "if media >= 90:\n",
    "    print(\"A\")\n",
    "elif media >= 70:\n",
    "    print(\"B\")\n",
    "elif media >= 60:\n",
    "    print(\"C\")\n",
    "else:\n",
    "    print(\"bocciato\")\n"
   ]
  },
  {
   "cell_type": "code",
   "execution_count": 75,
   "id": "03a6cd7e-2ef5-4f66-be26-e3826ac17093",
   "metadata": {},
   "outputs": [
    {
     "name": "stdin",
     "output_type": "stream",
     "text": [
      "Inserisci un numero intero:  3\n"
     ]
    },
    {
     "name": "stdout",
     "output_type": "stream",
     "text": [
      "3 è dispari\n"
     ]
    },
    {
     "name": "stdin",
     "output_type": "stream",
     "text": [
      "Inserisci un numero intero:  5\n"
     ]
    },
    {
     "name": "stdout",
     "output_type": "stream",
     "text": [
      "5 è dispari\n"
     ]
    }
   ],
   "source": [
    "for contatore in range(2):\n",
    "    valore = int(input(\"Inserisci un numero intero: \"))\n",
    "    if valore % 2 == 0:\n",
    "        print(valore, \"è pari\")\n",
    "    else:\n",
    "        print(valore, \"è dispari\")"
   ]
  },
  {
   "cell_type": "code",
   "execution_count": 77,
   "id": "28969368-017e-4da1-8073-10e7e3935285",
   "metadata": {},
   "outputs": [
    {
     "name": "stdout",
     "output_type": "stream",
     "text": [
      "stai fermo\n"
     ]
    }
   ],
   "source": [
    "azienda = \"Google\"\n",
    "costo_azioni = 51\n",
    "\n",
    "if azienda == \"Google\" and costo_azioni <= 50:\n",
    "    print(\"compra\")\n",
    "else:\n",
    "    print(\"stai fermo\")"
   ]
  },
  {
   "cell_type": "code",
   "execution_count": 80,
   "id": "870a3ba1-a392-45ad-8583-5c0bfd9c8663",
   "metadata": {},
   "outputs": [
    {
     "name": "stdout",
     "output_type": "stream",
     "text": [
      "bravo\n"
     ]
    }
   ],
   "source": [
    "media_semestre = 82\n",
    "esame_finale = 91\n",
    "\n",
    "if media_semestre >= 90 or esame_finale >= 90:\n",
    "    print(\"bravo\")"
   ]
  },
  {
   "cell_type": "code",
   "execution_count": 83,
   "id": "7ead5314-63f2-4353-86fc-18ca1e96f2c9",
   "metadata": {},
   "outputs": [
    {
     "name": "stdout",
     "output_type": "stream",
     "text": [
      "il prossimo voto è:  30\n"
     ]
    }
   ],
   "source": [
    "voto = 30\n",
    "if not voto == -1:\n",
    "    print(\"il prossimo voto è: \", voto)"
   ]
  },
  {
   "cell_type": "code",
   "execution_count": 85,
   "id": "fda325bb-6d69-4f82-bffb-5409deb514f9",
   "metadata": {},
   "outputs": [
    {
     "name": "stdout",
     "output_type": "stream",
     "text": [
      "Il prossimo voto è:  30\n"
     ]
    }
   ],
   "source": [
    "if voto != -1:\n",
    "    print('Il prossimo voto è: ', voto)"
   ]
  },
  {
   "cell_type": "code",
   "execution_count": 107,
   "id": "3594a9d6-b4e2-4e1b-adb6-2d1464171310",
   "metadata": {},
   "outputs": [
    {
     "name": "stdin",
     "output_type": "stream",
     "text": [
      "t 58\n"
     ]
    },
    {
     "data": {
      "text/plain": [
       "3364"
      ]
     },
     "execution_count": 107,
     "metadata": {},
     "output_type": "execute_result"
    }
   ],
   "source": [
    "## esercizi da altro file\n",
    "\n",
    "quadrato = (int(input(\"t\"))) ** 2\n",
    "quadrato"
   ]
  },
  {
   "cell_type": "code",
   "execution_count": 109,
   "id": "16b4c424-9e71-4c5e-aa6b-dfdd9ee19263",
   "metadata": {},
   "outputs": [
    {
     "data": {
      "text/plain": [
       "2.6457513110645907"
      ]
     },
     "execution_count": 109,
     "metadata": {},
     "output_type": "execute_result"
    }
   ],
   "source": [
    "def radicq(numero):\n",
    "    return numero ** 0.5\n",
    "\n",
    "radicq(7)"
   ]
  },
  {
   "cell_type": "code",
   "execution_count": 115,
   "id": "3d212a51-a973-4632-ada6-8976dd417fde",
   "metadata": {},
   "outputs": [
    {
     "data": {
      "text/plain": [
       "'oha'"
      ]
     },
     "execution_count": 115,
     "metadata": {},
     "output_type": "execute_result"
    }
   ],
   "source": [
    "def massimo(v1,v2,v3):\n",
    "\n",
    "    valore_massimo = v1\n",
    "    if v2 > valore_massimo:\n",
    "        valore_massimo = v2\n",
    "    if v3 > valore_massimo:\n",
    "        valore_massimo = v3\n",
    "    return valore_massimo\n",
    "\n",
    "massimo(\"giallo\",\"banana\",\"oha\")"
   ]
  },
  {
   "cell_type": "code",
   "execution_count": 118,
   "id": "30a48f4c-d7da-4658-9664-e0d9b73af4b6",
   "metadata": {},
   "outputs": [],
   "source": [
    "import math"
   ]
  },
  {
   "cell_type": "code",
   "execution_count": 120,
   "id": "d3131f34-1858-4b96-963e-ce6aa50bcc5a",
   "metadata": {},
   "outputs": [
    {
     "data": {
      "text/plain": [
       "30.0"
      ]
     },
     "execution_count": 120,
     "metadata": {},
     "output_type": "execute_result"
    }
   ],
   "source": [
    "math.sqrt(900)"
   ]
  },
  {
   "cell_type": "code",
   "execution_count": 123,
   "id": "de83aeb5-71e4-4d54-a544-a676bf7401df",
   "metadata": {},
   "outputs": [],
   "source": [
    "import random"
   ]
  },
  {
   "cell_type": "code",
   "execution_count": 127,
   "id": "2086bc05-6265-4e51-9099-0bf962cf0257",
   "metadata": {},
   "outputs": [
    {
     "data": {
      "text/plain": [
       "3"
      ]
     },
     "execution_count": 127,
     "metadata": {},
     "output_type": "execute_result"
    }
   ],
   "source": [
    "random.randrange(1, 7)"
   ]
  },
  {
   "cell_type": "code",
   "execution_count": 129,
   "id": "79434cb9-ec8e-46e8-bfef-2c27a6264536",
   "metadata": {},
   "outputs": [
    {
     "data": {
      "text/plain": [
       "'ciao'"
      ]
     },
     "execution_count": 129,
     "metadata": {},
     "output_type": "execute_result"
    }
   ],
   "source": [
    "s = \"ciao\"\n",
    "s.lower()"
   ]
  },
  {
   "cell_type": "code",
   "execution_count": 130,
   "id": "b41a5cd5-575c-4d48-9e33-ca5cc60dabf3",
   "metadata": {},
   "outputs": [
    {
     "data": {
      "text/plain": [
       "'ciao'"
      ]
     },
     "execution_count": 130,
     "metadata": {},
     "output_type": "execute_result"
    }
   ],
   "source": [
    "s.upper()\n",
    "s"
   ]
  },
  {
   "cell_type": "code",
   "execution_count": null,
   "id": "a1128c3c-f14a-40fd-b090-8424aa50fe8b",
   "metadata": {},
   "outputs": [],
   "source": []
  }
 ],
 "metadata": {
  "kernelspec": {
   "display_name": "Python 3 (ipykernel)",
   "language": "python",
   "name": "python3"
  },
  "language_info": {
   "codemirror_mode": {
    "name": "ipython",
    "version": 3
   },
   "file_extension": ".py",
   "mimetype": "text/x-python",
   "name": "python",
   "nbconvert_exporter": "python",
   "pygments_lexer": "ipython3",
   "version": "3.11.7"
  }
 },
 "nbformat": 4,
 "nbformat_minor": 5
}
