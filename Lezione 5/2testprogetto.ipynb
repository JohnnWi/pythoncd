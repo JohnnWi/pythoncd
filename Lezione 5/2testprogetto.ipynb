{
 "cells": [
  {
   "cell_type": "code",
   "execution_count": 92,
   "id": "8418144e-cc64-4c8a-be22-fa1e8aa9117b",
   "metadata": {
    "tags": []
   },
   "outputs": [
    {
     "ename": "TypeError",
     "evalue": "Only valid with DatetimeIndex, TimedeltaIndex or PeriodIndex, but got an instance of 'Index'",
     "output_type": "error",
     "traceback": [
      "\u001b[0;31m---------------------------------------------------------------------------\u001b[0m",
      "\u001b[0;31mTypeError\u001b[0m                                 Traceback (most recent call last)",
      "Cell \u001b[0;32mIn[92], line 20\u001b[0m\n\u001b[1;32m     17\u001b[0m df\u001b[38;5;241m.\u001b[39mindex \u001b[38;5;241m=\u001b[39m df\u001b[38;5;241m.\u001b[39mindex\u001b[38;5;241m.\u001b[39mstrftime(\u001b[38;5;124m'\u001b[39m\u001b[38;5;124m%\u001b[39m\u001b[38;5;124mY-\u001b[39m\u001b[38;5;124m%\u001b[39m\u001b[38;5;124mm-\u001b[39m\u001b[38;5;132;01m%d\u001b[39;00m\u001b[38;5;124m'\u001b[39m)\n\u001b[1;32m     19\u001b[0m \u001b[38;5;66;03m# Group the data by semester and calculate the sum\u001b[39;00m\n\u001b[0;32m---> 20\u001b[0m df_semestrale \u001b[38;5;241m=\u001b[39m df\u001b[38;5;241m.\u001b[39mresample(\u001b[38;5;124m'\u001b[39m\u001b[38;5;124m6M\u001b[39m\u001b[38;5;124m'\u001b[39m)\u001b[38;5;241m.\u001b[39msum()\n\u001b[1;32m     22\u001b[0m \u001b[38;5;66;03m# Format large numbers without using a comma as the thousands separator\u001b[39;00m\n\u001b[1;32m     23\u001b[0m pd\u001b[38;5;241m.\u001b[39moptions\u001b[38;5;241m.\u001b[39mdisplay\u001b[38;5;241m.\u001b[39mfloat_format \u001b[38;5;241m=\u001b[39m \u001b[38;5;124m'\u001b[39m\u001b[38;5;132;01m{:,.0f}\u001b[39;00m\u001b[38;5;124m'\u001b[39m\u001b[38;5;241m.\u001b[39mformat\n",
      "File \u001b[0;32m/opt/anaconda3/lib/python3.11/site-packages/pandas/core/generic.py:9439\u001b[0m, in \u001b[0;36mNDFrame.resample\u001b[0;34m(self, rule, axis, closed, label, convention, kind, on, level, origin, offset, group_keys)\u001b[0m\n\u001b[1;32m   9436\u001b[0m \u001b[38;5;28;01melse\u001b[39;00m:\n\u001b[1;32m   9437\u001b[0m     axis \u001b[38;5;241m=\u001b[39m \u001b[38;5;241m0\u001b[39m\n\u001b[0;32m-> 9439\u001b[0m \u001b[38;5;28;01mreturn\u001b[39;00m get_resampler(\n\u001b[1;32m   9440\u001b[0m     cast(\u001b[38;5;124m\"\u001b[39m\u001b[38;5;124mSeries | DataFrame\u001b[39m\u001b[38;5;124m\"\u001b[39m, \u001b[38;5;28mself\u001b[39m),\n\u001b[1;32m   9441\u001b[0m     freq\u001b[38;5;241m=\u001b[39mrule,\n\u001b[1;32m   9442\u001b[0m     label\u001b[38;5;241m=\u001b[39mlabel,\n\u001b[1;32m   9443\u001b[0m     closed\u001b[38;5;241m=\u001b[39mclosed,\n\u001b[1;32m   9444\u001b[0m     axis\u001b[38;5;241m=\u001b[39maxis,\n\u001b[1;32m   9445\u001b[0m     kind\u001b[38;5;241m=\u001b[39mkind,\n\u001b[1;32m   9446\u001b[0m     convention\u001b[38;5;241m=\u001b[39mconvention,\n\u001b[1;32m   9447\u001b[0m     key\u001b[38;5;241m=\u001b[39mon,\n\u001b[1;32m   9448\u001b[0m     level\u001b[38;5;241m=\u001b[39mlevel,\n\u001b[1;32m   9449\u001b[0m     origin\u001b[38;5;241m=\u001b[39morigin,\n\u001b[1;32m   9450\u001b[0m     offset\u001b[38;5;241m=\u001b[39moffset,\n\u001b[1;32m   9451\u001b[0m     group_keys\u001b[38;5;241m=\u001b[39mgroup_keys,\n\u001b[1;32m   9452\u001b[0m )\n",
      "File \u001b[0;32m/opt/anaconda3/lib/python3.11/site-packages/pandas/core/resample.py:1970\u001b[0m, in \u001b[0;36mget_resampler\u001b[0;34m(obj, kind, **kwds)\u001b[0m\n\u001b[1;32m   1966\u001b[0m \u001b[38;5;250m\u001b[39m\u001b[38;5;124;03m\"\"\"\u001b[39;00m\n\u001b[1;32m   1967\u001b[0m \u001b[38;5;124;03mCreate a TimeGrouper and return our resampler.\u001b[39;00m\n\u001b[1;32m   1968\u001b[0m \u001b[38;5;124;03m\"\"\"\u001b[39;00m\n\u001b[1;32m   1969\u001b[0m tg \u001b[38;5;241m=\u001b[39m TimeGrouper(\u001b[38;5;241m*\u001b[39m\u001b[38;5;241m*\u001b[39mkwds)\n\u001b[0;32m-> 1970\u001b[0m \u001b[38;5;28;01mreturn\u001b[39;00m tg\u001b[38;5;241m.\u001b[39m_get_resampler(obj, kind\u001b[38;5;241m=\u001b[39mkind)\n",
      "File \u001b[0;32m/opt/anaconda3/lib/python3.11/site-packages/pandas/core/resample.py:2160\u001b[0m, in \u001b[0;36mTimeGrouper._get_resampler\u001b[0;34m(self, obj, kind)\u001b[0m\n\u001b[1;32m   2151\u001b[0m \u001b[38;5;28;01melif\u001b[39;00m \u001b[38;5;28misinstance\u001b[39m(ax, TimedeltaIndex):\n\u001b[1;32m   2152\u001b[0m     \u001b[38;5;28;01mreturn\u001b[39;00m TimedeltaIndexResampler(\n\u001b[1;32m   2153\u001b[0m         obj,\n\u001b[1;32m   2154\u001b[0m         timegrouper\u001b[38;5;241m=\u001b[39m\u001b[38;5;28mself\u001b[39m,\n\u001b[0;32m   (...)\u001b[0m\n\u001b[1;32m   2157\u001b[0m         gpr_index\u001b[38;5;241m=\u001b[39max,\n\u001b[1;32m   2158\u001b[0m     )\n\u001b[0;32m-> 2160\u001b[0m \u001b[38;5;28;01mraise\u001b[39;00m \u001b[38;5;167;01mTypeError\u001b[39;00m(\n\u001b[1;32m   2161\u001b[0m     \u001b[38;5;124m\"\u001b[39m\u001b[38;5;124mOnly valid with DatetimeIndex, \u001b[39m\u001b[38;5;124m\"\u001b[39m\n\u001b[1;32m   2162\u001b[0m     \u001b[38;5;124m\"\u001b[39m\u001b[38;5;124mTimedeltaIndex or PeriodIndex, \u001b[39m\u001b[38;5;124m\"\u001b[39m\n\u001b[1;32m   2163\u001b[0m     \u001b[38;5;124mf\u001b[39m\u001b[38;5;124m\"\u001b[39m\u001b[38;5;124mbut got an instance of \u001b[39m\u001b[38;5;124m'\u001b[39m\u001b[38;5;132;01m{\u001b[39;00m\u001b[38;5;28mtype\u001b[39m(ax)\u001b[38;5;241m.\u001b[39m\u001b[38;5;18m__name__\u001b[39m\u001b[38;5;132;01m}\u001b[39;00m\u001b[38;5;124m'\u001b[39m\u001b[38;5;124m\"\u001b[39m\n\u001b[1;32m   2164\u001b[0m )\n",
      "\u001b[0;31mTypeError\u001b[0m: Only valid with DatetimeIndex, TimedeltaIndex or PeriodIndex, but got an instance of 'Index'"
     ]
    }
   ],
   "source": [
    "import pandas as pd\n",
    "\n",
    "# Load the Excel file\n",
    "df = pd.read_excel('/Users/andreacip/Downloads/dpc-covid19-ita-andamento-nazionale.xlsx')\n",
    "\n",
    "# Ensure the date column is in datetime format and remove the time\n",
    "df['data'] = pd.to_datetime(df['data']).dt.normalize()\n",
    "\n",
    "# Set the date column as the DataFrame index\n",
    "df.set_index('data', inplace=True)\n",
    "\n",
    "# Exclude the column with header \"test\"\n",
    "if 'test' in df.columns:\n",
    "    df.drop(columns=['test'], inplace=True)\n",
    "\n",
    "# Convert the index to 'YYYY-MM-dd' format without changing the index type\n",
    "df.index = df.index.strftime('%Y-%m-%d')\n",
    "\n",
    "# Group the data by semester and calculate the sum\n",
    "df_semestrale = df.resample('6M').sum()\n",
    "\n",
    "# Format large numbers without using a comma as the thousands separator\n",
    "pd.options.display.float_format = '{:,.0f}'.format\n",
    "\n",
    "# Display the first rows of the semestral DataFrame with style\n",
    "print(\"DataFrame semestrale:\")\n",
    "display(df_semestrale.head().style.background_gradient(cmap='coolwarm'))\n",
    "\n",
    "# Calculate the average of 'nuovi_positivi' per semester\n",
    "media_nuovi_positivi_semestrale = df['nuovi_positivi'].resample('6M').mean()\n",
    "\n",
    "# Display the semestral average of new positives with style\n",
    "print(\"\\nMedia semestrale dei nuovi positivi:\")\n",
    "display(media_nuovi_positivi_semestrale.to_frame(name='Media Nuovi Positivi').style.background_gradient(cmap='coolwarm'))\n",
    "\n",
    "# Calculate other statistics for each semester\n",
    "statistiche_semestrali = df['nuovi_positivi'].resample('6M').agg(['mean', 'median', 'min', 'max', 'std'])\n",
    "\n",
    "# Display the semestral statistics of new positives with style\n",
    "print(\"\\nStatistiche semestrali dei nuovi positivi:\")\n",
    "display(statistiche_semestrali.style.background_gradient(cmap='coolwarm'))\n"
   ]
  },
  {
   "cell_type": "code",
   "execution_count": null,
   "id": "86cd6d8c-4916-49cc-8b64-b9e7615b0ae1",
   "metadata": {},
   "outputs": [],
   "source": []
  }
 ],
 "metadata": {
  "kernelspec": {
   "display_name": "Python 3 (ipykernel)",
   "language": "python",
   "name": "python3"
  },
  "language_info": {
   "codemirror_mode": {
    "name": "ipython",
    "version": 3
   },
   "file_extension": ".py",
   "mimetype": "text/x-python",
   "name": "python",
   "nbconvert_exporter": "python",
   "pygments_lexer": "ipython3",
   "version": "3.11.7"
  }
 },
 "nbformat": 4,
 "nbformat_minor": 5
}
